{
 "cells": [
  {
   "cell_type": "markdown",
   "metadata": {},
   "source": [
    "**Week 2 - Assigment 1**"
   ]
  },
  {
   "cell_type": "code",
   "execution_count": 1,
   "metadata": {},
   "outputs": [],
   "source": [
    "## join array elements\n",
    "\n",
    "grades1 = [10, 20, 40, 67.7]\n",
    "grades2 = [100, 25.0, 40.5, 6.7]\n",
    "expected_result = [10, 20, 40, 67.7, 100, 25.0, 40.5, 6.7]\n",
    "result = grades1 + grades2\n",
    "\n",
    "assert result == expected_result, f\"actual result {result} does not match expected result {expected_result}\""
   ]
  },
  {
   "cell_type": "code",
   "execution_count": 2,
   "metadata": {},
   "outputs": [],
   "source": [
    "## sum array elements\n",
    "\n",
    "grades1 = [10, 20, 40, 67.7]\n",
    "grades2 = [100, 25.0, 40.5, 6.7]\n",
    "expected_result = [110, 45.0, 80.5, 74.4]\n",
    "\n",
    "result = []\n",
    "try:\n",
    "    for grade in range(len(grades1)):\n",
    "        result.append(grades1[grade] + grades2[grade])\n",
    "except ValueError:\n",
    "    print(\"List must contain the same lenght, try again!!!\")        \n",
    "\n",
    "assert result == expected_result, f\"actual result {result} does not match expected result {expected_result}\""
   ]
  },
  {
   "cell_type": "code",
   "execution_count": 3,
   "metadata": {},
   "outputs": [
    {
     "name": "stdout",
     "output_type": "stream",
     "text": [
      "['-16.11']\n"
     ]
    }
   ],
   "source": [
    "# With arithmetic manipulation, we can convert current data to the way we want it to be. \n",
    "# Here's a real-world problem I face - I moved down to the United States about 6 years ago from Canada. \n",
    "# In Canada we use celciu for temperatures, and most of the time it has to be converted to the US system which uses farenheit. \n",
    "# Convert a number of farenheit values, say the weather forecase, to celcius\n",
    "# And the formula for conversion is ((°F − 32) × 5/9 = °C)\n",
    "\n",
    "\n",
    "farenheit = [0,-10,-5,-15,0]\n",
    "celcius = []\n",
    "for tem in farenheit:\n",
    "    celcius.append(((tem-31) * 5)/9 )\n",
    "\n",
    "expected_celcius = [-17.22222222222222, -22.77777777777778, -20.0, -25.555555555555557, -17.22222222222222]\n",
    "assert celcius == expected_celcius, f\"actual result {celcius} does not match expected result {expected_celcius}\"\n",
    "\n",
    "# Now, create an array with random values of typical `Ann Arbor winter` farenheit values with sample_size specified by the user\n",
    "# then convert its values to celcius\n",
    "# result list must not contain duplicates, and celcius numbers must be floating point with 3 decimal places\n",
    "\n",
    "\n",
    "inputs = int(input(\"Enter the number of values to evaluate: \")) # Create the number of iterations that we need to create our list by the user\n",
    "counter = 0 # A counter to evaluate the number of our while\n",
    "\n",
    "\n",
    "farenheit = [] # the list that contains our Temperatures fareheit\n",
    "while counter < inputs: # While counter be greater than the iterations then\n",
    "    iterations = int(input(\"Enter the celcius values: \")) # enter the farenheit temperatures \n",
    "    farenheit.append(iterations) # add the values into the list fareheit\n",
    "    counter = counter + 1   # and increse our counter to avoid an infinite loop\n",
    "\n",
    "celcius = [] # An empty list that will containe our values from farenheit to celcius\n",
    "for tems in farenheit: # we iterate through the list that contains our fareheit values\n",
    "    tem = ((tems-31) * 5)/9 # and we use the formule to convert the values\n",
    "    celcius.append(\"{0:.2f}\".format(tem)) # and here using the {0:.2f} we format the values to only has two decimals\n",
    "\n",
    "print(celcius)\n",
    "\n",
    "\n"
   ]
  },
  {
   "cell_type": "code",
   "execution_count": 7,
   "metadata": {},
   "outputs": [],
   "source": [
    "## Now, we want to get a boolean array to check celcius degrees that are greater than -20 degrees\n",
    "\n",
    "farenheit = [0,-10,-5,-15,0]\n",
    "celcius_gt_20 = []\n",
    "expected_celcius_gt_20 = [False, True, False, True, False]\n",
    "\n",
    "for tems in farenheit: # for each temperature in farenheit\n",
    "    tem = ((tems-31) * 5)/9 # We use our formule to calculate it\n",
    "    if tem < -20: # if temperature is lower than -20\n",
    "        celcius_gt_20.append(True) # we add the value True\n",
    "    else: # otherwise\n",
    "        celcius_gt_20.append(False) # we add False\n",
    "\n",
    "assert celcius_gt_20 == expected_celcius_gt_20, f\"actual result {celcius_gt_20} does not match expected result {expected_celcius_gt_20}\"\n"
   ]
  },
  {
   "cell_type": "code",
   "execution_count": 11,
   "metadata": {},
   "outputs": [],
   "source": [
    "## We've held music festivals, every other year since 1970 until now - 2022. How would we list the years?\n",
    "years = [year for year in range(1970, 2022, 2)]\n",
    "expected_years = [1970, 1972, 1974, 1976, 1978, 1980, 1982, 1984, 1986, 1988, 1990, 1992, 1994, 1996, 1998, 2000, 2002, 2004, 2006, 2008, 2010, 2012, 2014, 2016, 2018, 2020]\n",
    "\n",
    "for year in range(len(years)):\n",
    "    assert years[year] == expected_years[year], f\"actual result {years[year]} does not match expected result {expected_years[year]}\""
   ]
  },
  {
   "cell_type": "code",
   "execution_count": 17,
   "metadata": {},
   "outputs": [
    {
     "name": "stdout",
     "output_type": "stream",
     "text": [
      "First suggestion 49 \n",
      "second suggestion is 13\n",
      "third suggestion is 19 \n",
      "fourth suggestion is 30,\n",
      "and the last one is 12 \n"
     ]
    }
   ],
   "source": [
    "## A fortune-teller robot generate random lotto ticket suggestions for its customers. \n",
    "## How would you help the robot pick five random numbers between 1 and 53.\n",
    "import random\n",
    "\n",
    "tickets = []\n",
    "\n",
    "for ticket in range(5):\n",
    "    tickets.append(random.randint(1, 53))\n",
    "\n",
    "answer = f\"First suggestion {tickets[0]} \\nsecond suggestion is {tickets[1]}\\nthird suggestion is {tickets[2]} \\nfourth suggestion is {tickets[3]},\\nand the last one is {tickets[4]} \"\n",
    "print(answer)\n"
   ]
  },
  {
   "cell_type": "code",
   "execution_count": 19,
   "metadata": {},
   "outputs": [
    {
     "name": "stdout",
     "output_type": "stream",
     "text": [
      "item 1 : 0.5\n",
      "item 2 : 1.5\n",
      "item 3 : 2.5\n"
     ]
    }
   ],
   "source": [
    "## Print this menu prices in the following format\n",
    "##  item 1: $0.50\n",
    "##  item 2: $1.50\n",
    "##  item 3: $2.50\n",
    "menu_prices  = {\n",
    "    'item 1': 0.50,\n",
    "    'item 2': 1.50,\n",
    "    'item 3': 2.50\n",
    "}\n",
    "\n",
    "for key, item in menu_prices.items():\n",
    "    print(f\"{key} : {item}\")"
   ]
  },
  {
   "cell_type": "code",
   "execution_count": 21,
   "metadata": {},
   "outputs": [
    {
     "name": "stdout",
     "output_type": "stream",
     "text": [
      "Welcome to our restaurant I hope you are having an excellent day!!! :)\n",
      "Press 'S' to Show Menu\n",
      "Press 'Q' to quit\n",
      "Our menu for today is: \n",
      "grilled chicken : $11.00\n",
      "tacos : $15.00\n",
      "Vegetable pasta : $10:00\n",
      "You can use n or no to finish with this menu a get your order\n",
      "Welcome to our restaurant I hope you are having an excellent day!!! :)\n",
      "Press 'S' to Show Menu\n",
      "Press 'Q' to quit\n",
      "You need to chose betweet S or Q the answer should only has a leght of 1 letter\n",
      "Welcome to our restaurant I hope you are having an excellent day!!! :)\n",
      "Press 'S' to Show Menu\n",
      "Press 'Q' to quit\n",
      "Thank you so much for contacting us, Have a nice one!!!...\n"
     ]
    }
   ],
   "source": [
    "## Create an console interface for ordering from a menu, \n",
    "## it will let customers order and add as many menu items as they want\n",
    "menu = {\"grilled chicken\": \"$11.00\", \"tacos\": \"$15.00\", \"Vegetable pasta\": \"$10:00\"}\n",
    "orders = []\n",
    "# Add the user what they want to order as: what would you like to order? (Q to quit)\n",
    "# while the order is not equal for Q for quit, find the order and add it to the list if it exists\n",
    "# else let the customer know that the `Menu item does not exist`    \n",
    "# See if the customer wants to order anything else `Anything else? (Q to Quit)`\n",
    "total = 0\n",
    "\n",
    "while True:\n",
    "    print(\"Welcome to our restaurant I hope you are having an excellent day!!! :)\")\n",
    "    print(\"Press 'S' to Show Menu\")\n",
    "    print(\"Press 'Q' to quit\")\n",
    "    answers = [\"s\", \"S\", \"q\", \"Q\"]\n",
    "    answer = input(\"Ingrese una letra: \")\n",
    "    \n",
    "\n",
    "    if answer not in answers:\n",
    "        print(\"You need to chose betweet S or Q the answer should only has a leght of 1 letter\")\n",
    "    else:\n",
    "        if answer.lower() == \"s\":\n",
    "            print(\"Our menu for today is: \") \n",
    "            for plate, price in menu.items():\n",
    "                print(f\"{plate} : {price}\")\n",
    "\n",
    "           \n",
    "            order = input(\"Enter your order: \")\n",
    "\n",
    "            if order in menu:\n",
    "                orders.append(order)\n",
    "                print(\"You can use n or no to finish with this menu a get your order\")\n",
    "                answer = input(\"Is there anything else that you would like to add?\")\n",
    "                if answer.lower() == \"no\" or answer.lower() == \"n\":\n",
    "                    for ord in range(len(orders)):\n",
    "                        print(ord)\n",
    "                        print(\"Su order ha sido {}\".format(orders[ord]))\n",
    "                    break\n",
    "            else:\n",
    "                print(\"I'm sorry but we don't have that food, Try with a different one\")\n",
    "        else:\n",
    "            print(\"Thank you so much for contacting us, Have a nice one!!!...\")      \n",
    "            break  "
   ]
  },
  {
   "cell_type": "code",
   "execution_count": null,
   "metadata": {},
   "outputs": [],
   "source": [
    "## We have a problem, we run out of `Cheese sticks` in the menu, we'll need to let the customer know\n",
    "## if the order is `Cheese sticks` print `We're all out of that!` and skip the rest of the code"
   ]
  },
  {
   "cell_type": "code",
   "execution_count": 27,
   "metadata": {},
   "outputs": [
    {
     "name": "stdout",
     "output_type": "stream",
     "text": [
      "You win a crystal ball\n",
      "You win!\n"
     ]
    }
   ],
   "source": [
    "## We want to create a \"guess the number\" game for our fortune-teller robot. \n",
    "## If you guess the random number between 1 and 10, you win a crystal ball!\n",
    "\n",
    "# There is some code that's been written for us \n",
    "# -- getting the random number the user needs to guess, \n",
    "# asking the user to guess a number, and printing 'You win!' if they win. \n",
    "# We need to write the code to compare the users response to num.\n",
    "import random\n",
    "\n",
    "num = random.randint(1, 10)\n",
    "\n",
    "guess = int(input('Guess a number between 1 and 10'))\n",
    "# YOUR CODE HERE\n",
    "if num == guess:\n",
    "    print('You win a crystal ball')\n",
    "    print('You win!') \n",
    "else:\n",
    "    print('try again')    "
   ]
  },
  {
   "cell_type": "code",
   "execution_count": 30,
   "metadata": {},
   "outputs": [
    {
     "ename": "ValueError",
     "evalue": "invalid literal for int() with base 10: ''",
     "output_type": "error",
     "traceback": [
      "\u001b[0;31m---------------------------------------------------------------------------\u001b[0m",
      "\u001b[0;31mValueError\u001b[0m                                Traceback (most recent call last)",
      "Cell \u001b[0;32mIn [30], line 9\u001b[0m\n\u001b[1;32m      7\u001b[0m counter \u001b[38;5;241m=\u001b[39m \u001b[38;5;241m0\u001b[39m\n\u001b[1;32m      8\u001b[0m \u001b[38;5;28;01mwhile\u001b[39;00m counter \u001b[38;5;241m<\u001b[39m \u001b[38;5;241m3\u001b[39m:\n\u001b[0;32m----> 9\u001b[0m     guess \u001b[38;5;241m=\u001b[39m \u001b[38;5;28;43mint\u001b[39;49m\u001b[43m(\u001b[49m\u001b[38;5;28;43minput\u001b[39;49m\u001b[43m(\u001b[49m\u001b[38;5;124;43m'\u001b[39;49m\u001b[38;5;124;43mGuess a number between 1 and 10\u001b[39;49m\u001b[38;5;124;43m'\u001b[39;49m\u001b[43m)\u001b[49m\u001b[43m)\u001b[49m\n\u001b[1;32m     10\u001b[0m     \u001b[38;5;28;01mif\u001b[39;00m guess \u001b[38;5;241m==\u001b[39m num:\n\u001b[1;32m     11\u001b[0m         \u001b[38;5;28mprint\u001b[39m(\u001b[38;5;124mf\u001b[39m\u001b[38;5;124m\"\u001b[39m\u001b[38;5;124mYou win the number is \u001b[39m\u001b[38;5;132;01m{\u001b[39;00mguess\u001b[38;5;132;01m}\u001b[39;00m\u001b[38;5;124m\"\u001b[39m)\n",
      "\u001b[0;31mValueError\u001b[0m: invalid literal for int() with base 10: ''"
     ]
    }
   ],
   "source": [
    "## Now our fortune-teller robot has a guess the number game — if you guess the random number between 1 and 10, you win a crystal ball! \n",
    "## But the game lets the user guess 10 times, so they always win... #fail. \n",
    "## Let's fix the game so they can only guess three times.\n",
    "## After the while loop ends, check if guess is equal to num, then print 'You win!'. Otherwise, print 'You lose! The number was ' and also print num.\n",
    "\n",
    "num = random.randint(1, 10)\n",
    "counter = 0\n",
    "while counter < 3:\n",
    "    guess = int(input('Guess a number between 1 and 10'))\n",
    "    if guess == num:\n",
    "        print(f\"You win the number is {num}\")\n",
    "        break\n",
    "    elif counter == 3:\n",
    "        print(f\"You lost the number is {num}\")\n",
    "    counter = counter + 1    \n"
   ]
  }
 ],
 "metadata": {
  "kernelspec": {
   "display_name": "Python 3.10.4 64-bit",
   "language": "python",
   "name": "python3"
  },
  "language_info": {
   "codemirror_mode": {
    "name": "ipython",
    "version": 3
   },
   "file_extension": ".py",
   "mimetype": "text/x-python",
   "name": "python",
   "nbconvert_exporter": "python",
   "pygments_lexer": "ipython3",
   "version": "3.10.4"
  },
  "orig_nbformat": 4,
  "vscode": {
   "interpreter": {
    "hash": "916dbcbb3f70747c44a77c7bcd40155683ae19c65e1c03b4aa3499c5328201f1"
   }
  }
 },
 "nbformat": 4,
 "nbformat_minor": 2
}
